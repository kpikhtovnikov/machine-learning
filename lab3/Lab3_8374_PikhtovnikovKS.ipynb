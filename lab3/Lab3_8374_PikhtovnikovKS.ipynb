{
 "cells": [
  {
   "cell_type": "code",
   "execution_count": 1,
   "id": "5d11a2fa",
   "metadata": {},
   "outputs": [
    {
     "data": {
      "text/html": [
       "<div>\n",
       "<style scoped>\n",
       "    .dataframe tbody tr th:only-of-type {\n",
       "        vertical-align: middle;\n",
       "    }\n",
       "\n",
       "    .dataframe tbody tr th {\n",
       "        vertical-align: top;\n",
       "    }\n",
       "\n",
       "    .dataframe thead th {\n",
       "        text-align: right;\n",
       "    }\n",
       "</style>\n",
       "<table border=\"1\" class=\"dataframe\">\n",
       "  <thead>\n",
       "    <tr style=\"text-align: right;\">\n",
       "      <th></th>\n",
       "      <th>work_year</th>\n",
       "      <th>experience_level</th>\n",
       "      <th>employment_type</th>\n",
       "      <th>salary_in_usd</th>\n",
       "      <th>remote_ratio</th>\n",
       "      <th>company_size</th>\n",
       "    </tr>\n",
       "  </thead>\n",
       "  <tbody>\n",
       "    <tr>\n",
       "      <th>2052</th>\n",
       "      <td>2022</td>\n",
       "      <td>2</td>\n",
       "      <td>1</td>\n",
       "      <td>160000</td>\n",
       "      <td>100</td>\n",
       "      <td>1</td>\n",
       "    </tr>\n",
       "    <tr>\n",
       "      <th>2206</th>\n",
       "      <td>2022</td>\n",
       "      <td>1</td>\n",
       "      <td>1</td>\n",
       "      <td>54634</td>\n",
       "      <td>100</td>\n",
       "      <td>0</td>\n",
       "    </tr>\n",
       "    <tr>\n",
       "      <th>459</th>\n",
       "      <td>2023</td>\n",
       "      <td>0</td>\n",
       "      <td>1</td>\n",
       "      <td>60000</td>\n",
       "      <td>100</td>\n",
       "      <td>1</td>\n",
       "    </tr>\n",
       "    <tr>\n",
       "      <th>1276</th>\n",
       "      <td>2022</td>\n",
       "      <td>1</td>\n",
       "      <td>1</td>\n",
       "      <td>124000</td>\n",
       "      <td>100</td>\n",
       "      <td>1</td>\n",
       "    </tr>\n",
       "    <tr>\n",
       "      <th>239</th>\n",
       "      <td>2023</td>\n",
       "      <td>2</td>\n",
       "      <td>1</td>\n",
       "      <td>15827</td>\n",
       "      <td>100</td>\n",
       "      <td>0</td>\n",
       "    </tr>\n",
       "  </tbody>\n",
       "</table>\n",
       "</div>"
      ],
      "text/plain": [
       "      work_year  experience_level  employment_type  salary_in_usd  \\\n",
       "2052       2022                 2                1         160000   \n",
       "2206       2022                 1                1          54634   \n",
       "459        2023                 0                1          60000   \n",
       "1276       2022                 1                1         124000   \n",
       "239        2023                 2                1          15827   \n",
       "\n",
       "      remote_ratio  company_size  \n",
       "2052           100             1  \n",
       "2206           100             0  \n",
       "459            100             1  \n",
       "1276           100             1  \n",
       "239            100             0  "
      ]
     },
     "execution_count": 1,
     "metadata": {},
     "output_type": "execute_result"
    }
   ],
   "source": [
    "# Датасет AI/ML Salaries https://www.kaggle.com/datasets/cedricaubin/ai-ml-salaries\n",
    "\n",
    "import pandas as pd\n",
    "\n",
    "# Для анализа исключим из датасета название работы, оставим зарплату только в долларах США,\n",
    "# а также местоположение работника и компании\n",
    "# Атрибуты experience_level, employment_type и company_size переведем в числовой формат\n",
    "\n",
    "csv = pd.read_csv('salaries.csv', sep=',')\n",
    "df = pd.DataFrame(csv)[['work_year', 'experience_level', 'employment_type', \n",
    "                        'salary_in_usd', 'remote_ratio', 'company_size'#, 'company_location'\n",
    "                       ]]\n",
    "\n",
    "df['experience_level'] = df['experience_level'].replace({'EN': 0, 'MI': 1, 'SE': 2, 'EX': 3})\n",
    "df['employment_type'] = df['employment_type'].replace({'PT': 0, 'FT': 1, 'CT': 2, 'FL': 3})\n",
    "df['company_size'] = df['company_size'].replace({'S': 0, 'M': 1, 'L': 2})\n",
    "#df = pd.concat([df, pd.get_dummies(df['company_location'], prefix='loc')],axis=1)\n",
    "#df.drop(['company_location'],axis=1,inplace=True)\n",
    "df.sample(5)"
   ]
  },
  {
   "cell_type": "code",
   "execution_count": 2,
   "id": "ddf2545b",
   "metadata": {},
   "outputs": [
    {
     "name": "stdout",
     "output_type": "stream",
     "text": [
      "Пропущенные значения:\n"
     ]
    }
   ],
   "source": [
    "# Поиск пропущенных значений\n",
    "print('Пропущенные значения:')\n",
    "for col in df.columns:\n",
    "    num_missing = df[col].isnull().sum()\n",
    "    if num_missing > 0:\n",
    "        print(f'{col}: {num_missing}')\n",
    "        \n",
    "# Пропущенные значения отсутствуют"
   ]
  },
  {
   "cell_type": "code",
   "execution_count": 3,
   "id": "17ee946b",
   "metadata": {},
   "outputs": [],
   "source": [
    "# Заменим значения зарплаты ниже 80000 на 0, а остальные на 1\n",
    "df['salary_in_usd'] = (df['salary_in_usd'] >= 80000).astype(int)\n",
    "\n",
    "from sklearn.tree import DecisionTreeClassifier\n",
    "from sklearn.neighbors import KNeighborsClassifier\n",
    "from sklearn.model_selection import train_test_split\n",
    "\n",
    "target = 'salary_in_usd'\n",
    "x = df.drop(target, axis=1)\n",
    "y = df[target]\n",
    "\n",
    "# Разделим датасет на тренировочные и тестировочные данные в соотношении 70%/30%\n",
    "x_train, x_test, y_train, y_test = train_test_split(x, y, test_size=0.3, random_state=42)\n",
    "\n",
    "tree = DecisionTreeClassifier(max_depth=5, random_state=42)\n",
    "knn = KNeighborsClassifier(n_neighbors=10)"
   ]
  },
  {
   "cell_type": "code",
   "execution_count": 4,
   "id": "475cb0ee",
   "metadata": {},
   "outputs": [
    {
     "name": "stdout",
     "output_type": "stream",
     "text": [
      "Fitting 5 folds for each of 150 candidates, totalling 750 fits\n"
     ]
    },
    {
     "data": {
      "text/plain": [
       "({'max_depth': 5, 'max_features': 5}, 0.8459981902499717)"
      ]
     },
     "execution_count": 4,
     "metadata": {},
     "output_type": "execute_result"
    }
   ],
   "source": [
    "from sklearn.pipeline import Pipeline\n",
    "from sklearn.model_selection import GridSearchCV\n",
    "\n",
    "# Определим оптимальные параметры для дерева решений\n",
    "tree_params = {\"max_depth\": range(1, 11), \"max_features\": range(4, 19)}\n",
    "tree_grid = GridSearchCV(tree, tree_params, cv=5, n_jobs=-1, verbose=True)\n",
    "tree_grid.fit(x_train, y_train)\n",
    "tree_grid.best_params_, tree_grid.best_score_"
   ]
  },
  {
   "cell_type": "code",
   "execution_count": 5,
   "id": "a5bbe5aa",
   "metadata": {},
   "outputs": [
    {
     "name": "stdout",
     "output_type": "stream",
     "text": [
      "Fitting 5 folds for each of 9 candidates, totalling 45 fits\n"
     ]
    },
    {
     "data": {
      "text/plain": [
       "({'knn__n_neighbors': 9}, 0.8326931342608302)"
      ]
     },
     "execution_count": 5,
     "metadata": {},
     "output_type": "execute_result"
    }
   ],
   "source": [
    "from sklearn.preprocessing import StandardScaler\n",
    "\n",
    "# Определим оптимальные параметры для k-NN\n",
    "knn_pipe = Pipeline([(\"scaler\", StandardScaler()), (\"knn\", KNeighborsClassifier(n_jobs=-1))])\n",
    "knn_params = {\"knn__n_neighbors\": range(1, 10)}\n",
    "knn_grid = GridSearchCV(knn_pipe, knn_params, cv=5, n_jobs=-1, verbose=True)\n",
    "knn_grid.fit(x_train, y_train)\n",
    "knn_grid.best_params_, knn_grid.best_score_"
   ]
  },
  {
   "cell_type": "code",
   "execution_count": 6,
   "id": "f57bfd8f",
   "metadata": {},
   "outputs": [
    {
     "name": "stdout",
     "output_type": "stream",
     "text": [
      "Accuracy\n",
      "k-NN: 0.8215077605321508\n",
      "Дерево решений: 0.8470066518847007\n"
     ]
    }
   ],
   "source": [
    "from sklearn.metrics import accuracy_score\n",
    "\n",
    "# Определим долю правильных ответов алгоритмов\n",
    "print('Accuracy')\n",
    "print(f'k-NN: {accuracy_score(y_test, knn_grid.predict(x_test))}')\n",
    "print(f'Дерево решений: {accuracy_score(y_test, tree_grid.predict(x_test))}')"
   ]
  },
  {
   "cell_type": "code",
   "execution_count": 7,
   "id": "d6a2e8f1",
   "metadata": {},
   "outputs": [
    {
     "name": "stdout",
     "output_type": "stream",
     "text": [
      "Presicion\n",
      "k-NN: 0.8730366492146597\n",
      "Дерево решений: 0.8665018541409147\n"
     ]
    }
   ],
   "source": [
    "from sklearn.metrics import precision_score\n",
    "\n",
    "# Определим точность алгоритмов\n",
    "print('Presicion')\n",
    "print(f'k-NN: {precision_score(y_test, knn_grid.predict(x_test))}')\n",
    "print(f'Дерево решений: {precision_score(y_test, tree_grid.predict(x_test))}')"
   ]
  },
  {
   "cell_type": "code",
   "execution_count": 8,
   "id": "96c427bd",
   "metadata": {},
   "outputs": [
    {
     "name": "stdout",
     "output_type": "stream",
     "text": [
      "Recall\n",
      "k-NN: 0.9124487004103967\n",
      "Дерево решений: 0.9589603283173734\n"
     ]
    }
   ],
   "source": [
    "from sklearn.metrics import recall_score\n",
    "\n",
    "# Определим полноту алгоритмов\n",
    "print('Recall')\n",
    "print(f'k-NN: {recall_score(y_test, knn_grid.predict(x_test))}')\n",
    "print(f'Дерево решений: {recall_score(y_test, tree_grid.predict(x_test))}')"
   ]
  },
  {
   "cell_type": "code",
   "execution_count": 9,
   "id": "35d73ea7",
   "metadata": {},
   "outputs": [
    {
     "name": "stdout",
     "output_type": "stream",
     "text": [
      "F-measure\n",
      "k-NN: 0.8923076923076924\n",
      "Дерево решений: 0.9103896103896104\n"
     ]
    }
   ],
   "source": [
    "from sklearn.metrics import f1_score\n",
    "\n",
    "# Определим F-меру алгоритмов\n",
    "print('F-measure')\n",
    "print(f'k-NN: {f1_score(y_test, knn_grid.predict(x_test))}')\n",
    "print(f'Дерево решений: {f1_score(y_test, tree_grid.predict(x_test))}')"
   ]
  },
  {
   "cell_type": "code",
   "execution_count": 10,
   "id": "f9893ec6",
   "metadata": {},
   "outputs": [
    {
     "name": "stdout",
     "output_type": "stream",
     "text": [
      "ROC\n",
      "k-NN: 0.6725986192110462\n",
      "Дерево решений: 0.6636906904744762\n"
     ]
    }
   ],
   "source": [
    "from sklearn.metrics import roc_auc_score\n",
    "\n",
    "# Определим площадь под ROC-кривой\n",
    "print('ROC')\n",
    "print(f'k-NN: {roc_auc_score(y_test, knn_grid.predict(x_test))}')\n",
    "print(f'Дерево решений: {roc_auc_score(y_test, tree_grid.predict(x_test))}')"
   ]
  },
  {
   "cell_type": "code",
   "execution_count": 11,
   "id": "3c50d10c",
   "metadata": {},
   "outputs": [],
   "source": [
    "# В каких метриках каждый алгоритм показал себя лучше:\n",
    "# k-NN: presicion, ROC\n",
    "# Дерево решений: accuracy, recall, F-measure\n",
    "\n",
    "# Более высокие значения ROC AUC связаны с тем, что эта метрика является гармоническим средним между presicion и recall\n",
    "\n",
    "# По совокупности всех параметров можно сделать вывод о том, что дерево решений является наиболее подходящем алгоритмом \n",
    "# с подобными входными данными\n",
    "\n",
    "# Основным преимуществом дерева решений над k-NN является более высокая доля правильных ответов: 84.7% против 82.2%"
   ]
  }
 ],
 "metadata": {
  "kernelspec": {
   "display_name": "Python 3 (ipykernel)",
   "language": "python",
   "name": "python3"
  },
  "language_info": {
   "codemirror_mode": {
    "name": "ipython",
    "version": 3
   },
   "file_extension": ".py",
   "mimetype": "text/x-python",
   "name": "python",
   "nbconvert_exporter": "python",
   "pygments_lexer": "ipython3",
   "version": "3.10.9"
  }
 },
 "nbformat": 4,
 "nbformat_minor": 5
}
